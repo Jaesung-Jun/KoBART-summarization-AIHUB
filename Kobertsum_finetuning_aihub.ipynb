{
 "cells": [
  {
   "cell_type": "markdown",
   "id": "3131d9b9",
   "metadata": {},
   "source": [
    "# 1. Import Package"
   ]
  },
  {
   "cell_type": "code",
   "execution_count": null,
   "id": "f4ff46a8",
   "metadata": {},
   "outputs": [],
   "source": [
    "from transformers import BertTokenizer, BertModel, BertConfig\n",
    "import torch\n",
    "from konlpy.tag import Mecab\n",
    "from tqdm import tqdm\n",
    "\n",
    "import numpy as np\n",
    "import json\n",
    "import pandas as pd\n",
    "import ast\n",
    "import os\n",
    "import re\n",
    "\n",
    "from osAdvanced import File_Control\n",
    "\n",
    "import subprocess"
   ]
  },
  {
   "cell_type": "markdown",
   "id": "ccd395ad",
   "metadata": {},
   "source": [
    "# 2. 데이터 전처리"
   ]
  },
  {
   "cell_type": "markdown",
   "id": "b24592e0",
   "metadata": {},
   "source": [
    "## 2.1 json 파일을 불러온뒤 데이터 로드하기\n",
    "데이터는 AIHUB의 논문자료 요약 소개 데이터(https://aihub.or.kr/aidata/30712)임.<br>"
   ]
  },
  {
   "cell_type": "code",
   "execution_count": null,
   "id": "0cbce99a",
   "metadata": {},
   "outputs": [],
   "source": [
    "DATA_PATH = \"\" # 데이터 경로 지정\n",
    "\n",
    "data_paths = File_Control.searchAllFilesInDirectory(DATA_PATH, \"json\", )\n",
    "\n",
    "data_list = []\n",
    "\n",
    "for path in data_paths:\n",
    "    \n",
    "    with open(path, 'r') as f:\n",
    "        json_data = json.load(f)\n",
    "        for paper_info in json_data['data']:\n",
    "            \n",
    "            data_dict = {}     \n",
    "            for summary_entire in paper_info['summary_entire']:\n",
    "                #data_dict['news'] = re.sub(r'[^ ㄱ-ㅣ가-힣A-Za-z]', '', summary_entire['orginal_text'])\n",
    "                #data_dict['summary'] = re.sub(r'[^ ㄱ-ㅣ가-힣A-Za-z]', '', summary_entire['summary_text'])          \n",
    "                data_dict['news'] = summary_entire['orginal_text']\n",
    "                data_dict['summary'] = summary_entire['summary_text']\n",
    "            data_list.append(data_dict)"
   ]
  },
  {
   "cell_type": "markdown",
   "id": "702c5cda",
   "metadata": {},
   "source": [
    "## 2.2 불러온 데이터의 결측치 제거 및 Pandas Dataframe으로 저장\n",
    "모델의 max length가 512이기에, summary 값의 길이가 512 이상인 값은 제거함."
   ]
  },
  {
   "cell_type": "code",
   "execution_count": null,
   "id": "f35fdb22",
   "metadata": {},
   "outputs": [],
   "source": [
    "print(\"# Loaded Data : \", len(data_list))\n",
    "na = [\"\", \"NAME\", \"원문 참고\", \"ㅊ\", \"\\n\", \"\\t\", \"#VALUE!\", \"#DIV/0!\", \"#N/A\", \"#NULL!\", \"#REF!\", \"#NUM!\", \"#NAME!\"]\n",
    "\n",
    "for s in data_list:\n",
    "    if len(s['summary']) > 512:\n",
    "        print(f\"Dropped : \\\n",
    "                news : {s['news'][:4] + '...'} \\t| \\\n",
    "                summary : {s['summary'][:9] + '...'}\")\n",
    "        data_list.remove(s)\n",
    "    if (s['news'] in na) or (s['summary'] in na):\n",
    "        print(f\"Dropped : \\\n",
    "              news : {s['news'] if len(s['news']) < 10 else s['news'][:4] + '...'} \\t| \\\n",
    "              summary : {s['summary'] if len(s['summary']) < 10 else s['summary'][:9] + '...'}\")\n",
    "        data_list.remove(s)\n",
    "print(\"# N/A Drop Complete : \", len(data_list))\n",
    "        \n",
    "df = pd.DataFrame(data_list)\n",
    "df = df.dropna(axis='index', inplace=False)\n",
    "df.reset_index(drop=True, inplace=True)"
   ]
  },
  {
   "cell_type": "markdown",
   "id": "bd3798c0",
   "metadata": {},
   "source": [
    "## 2.3 데이터 확인"
   ]
  },
  {
   "cell_type": "code",
   "execution_count": null,
   "id": "c80a4106",
   "metadata": {},
   "outputs": [],
   "source": [
    "df.head()"
   ]
  },
  {
   "cell_type": "code",
   "execution_count": null,
   "id": "89d1e28f",
   "metadata": {},
   "outputs": [],
   "source": [
    "df.describe()"
   ]
  },
  {
   "cell_type": "markdown",
   "id": "f76395cd",
   "metadata": {},
   "source": [
    "## 2.4 Test/Train Set 분할"
   ]
  },
  {
   "cell_type": "code",
   "execution_count": null,
   "id": "9d9daf61",
   "metadata": {},
   "outputs": [],
   "source": [
    "SAVE_PATH = \"./data\"\n",
    "np.random.seed(1)\n",
    "msk = np.random.rand(len(df)) < 0.7\n",
    "\n",
    "train_df = df[msk]\n",
    "test_df = df[~msk]"
   ]
  },
  {
   "cell_type": "code",
   "execution_count": null,
   "id": "f99c03c8",
   "metadata": {},
   "outputs": [],
   "source": [
    "df.to_csv(SAVE_PATH + \"/preprocessed_kobart.tsv\", sep='\\t')\n",
    "train_df.to_csv(SAVE_PATH+ \"/preprocessed_kobart_train.tsv\", sep='\\t')\n",
    "test_df.to_csv(SAVE_PATH + \"/preprocessed_kobart_test.tsv\", sep='\\t')"
   ]
  },
  {
   "cell_type": "markdown",
   "id": "953ae0a0",
   "metadata": {},
   "source": [
    "# 3. Model Train"
   ]
  },
  {
   "cell_type": "markdown",
   "id": "6feb74b4",
   "metadata": {},
   "source": [
    "## 3.1 Model Training\n",
    "기존의 데이터는 https://dacon.io/competitions/official/235673/overview/description(한국어 문서 생성요약 AI 경진대회)로 학습됨.<br>\n",
    "기존의 데이터로 pretrained된 모델을 AIHUB의 데이터로 Fine-Tuning 시킴.\n",
    "<br>\n",
    "<br>\n",
    "Epoch은 3으로 지정,<br>\n",
    "test데이터와 train데이터는 https://aihub.or.kr/aidata/30712(논문자료 요약 소개)를 전처리한 데이터로 설정함. <br>\n",
    "<br>\n",
    "- 미리 학습된 모델/파라미터가 ./kobart_summary_pretrained 디렉토리에 파일로 존재해야함."
   ]
  },
  {
   "cell_type": "code",
   "execution_count": null,
   "id": "a01cec1d",
   "metadata": {},
   "outputs": [],
   "source": [
    "#train_finetuning.train(train_file=\"./data/preprocessed_0615_kobart_train.tsv\", test_file=\"./data/preprocessed_0615_kobart_test.tsv\")\n",
    "subprocess.call(\"python train_finetuning.py --gradient_clip_val 1.0 \\\n",
    "                --max_epochs 3 \\\n",
    "                --default_root_dir logs_finetuned \\\n",
    "                --gpus 1 \\\n",
    "                --batch_size 32 \\\n",
    "                --num_workers 4 \\\n",
    "                --test_file ./data/preprocessed_kobart_test.tsv \\\n",
    "                --train_file ./data/preprocessed_kobart_train.tsv \", shell=True)"
   ]
  },
  {
   "cell_type": "markdown",
   "id": "c153fc8e",
   "metadata": {},
   "source": [
    "## 3.2 Model Binary 만들기\n"
   ]
  },
  {
   "cell_type": "code",
   "execution_count": null,
   "id": "f5c94336",
   "metadata": {},
   "outputs": [],
   "source": [
    "#train_finetuning.train(train_file=\"./data/preprocessed_0615_kobart_train.tsv\", test_file=\"./data/preprocessed_0615_kobart_test.tsv\")\n",
    "subprocess.call(\"python get_model_binary.py --hparams ./logs_finetuned/tb_logs/default/version_0/hparams.yaml --model_binary ./logs_finetuned/last.ckpt\", shell=True)"
   ]
  },
  {
   "cell_type": "markdown",
   "id": "944b62e3",
   "metadata": {},
   "source": [
    "## 3.3 Streamlit으로 모델 Demo Web Server 생성"
   ]
  },
  {
   "cell_type": "code",
   "execution_count": null,
   "id": "8594c48f",
   "metadata": {},
   "outputs": [],
   "source": [
    "subprocess.call(\"streamlit run infer.py\", shell=True)"
   ]
  }
 ],
 "metadata": {
  "kernelspec": {
   "display_name": "paper_summary",
   "language": "python",
   "name": "paper_summary"
  },
  "language_info": {
   "codemirror_mode": {
    "name": "ipython",
    "version": 3
   },
   "file_extension": ".py",
   "mimetype": "text/x-python",
   "name": "python",
   "nbconvert_exporter": "python",
   "pygments_lexer": "ipython3",
   "version": "3.8.13"
  }
 },
 "nbformat": 4,
 "nbformat_minor": 5
}
